{
 "cells": [
  {
   "cell_type": "code",
   "execution_count": null,
   "id": "a3d0e6e3",
   "metadata": {},
   "outputs": [],
   "source": [
    "1. Create a 10 variables with your friend names?"
   ]
  },
  {
   "cell_type": "code",
   "execution_count": 1,
   "id": "b8c06ebb",
   "metadata": {},
   "outputs": [],
   "source": [
    "name1=\"mamatha\"\n",
    "name2=\"meghana\"\n",
    "name3=\"siromani\"\n",
    "name4=\"bhavani\"\n",
    "name5=\"bhargavi\"\n",
    "name6=\"ganga\"\n",
    "name7=\"chandrika\"\n",
    "name8=\"vijju\"\n",
    "name9=\"sravani\"\n",
    "name10=\"pavani\""
   ]
  },
  {
   "cell_type": "code",
   "execution_count": 2,
   "id": "f4b773e7",
   "metadata": {},
   "outputs": [
    {
     "name": "stdout",
     "output_type": "stream",
     "text": [
      "my friends names are,mamatha,meghana,siromani,bhavani,bhargavi,ganga,chandrika,vijju,sravani,pavani\n"
     ]
    }
   ],
   "source": [
    "print(\"my friends names are\",name1,name2,name3,name4,name5,name6,name7,name8,name9,name10,sep=\",\")"
   ]
  },
  {
   "cell_type": "code",
   "execution_count": null,
   "id": "3b714155",
   "metadata": {},
   "outputs": [],
   "source": [
    "2. Create a 10 variables with your family member names?"
   ]
  },
  {
   "cell_type": "code",
   "execution_count": null,
   "id": "cbf64204",
   "metadata": {},
   "outputs": [],
   "source": [
    "familymembers=(\"gopalakrishna\",\"chinna\",\"srinivasarao\",\"sujatha\",\"venkateswaramma\",\"verraswami\",\"chitra\",\"pawan\",\"devi\",\"ratnakumar\")\n",
    "print(familymembers)"
   ]
  },
  {
   "cell_type": "code",
   "execution_count": null,
   "id": "767eeca7",
   "metadata": {},
   "outputs": [],
   "source": [
    "familymembers=\"gopalakrishna\",\"chinna\",\"srinivasarao\",\"sujatha\",\"venkateswaramma\",\"verraswami\",\"chitra\",\"pawan\",\"devi\",\"ratnakumar\"\n"
   ]
  },
  {
   "cell_type": "code",
   "execution_count": null,
   "id": "3a501228",
   "metadata": {},
   "outputs": [],
   "source": [
    "print(familymembers)"
   ]
  },
  {
   "cell_type": "code",
   "execution_count": null,
   "id": "6bd220d2",
   "metadata": {},
   "outputs": [],
   "source": [
    "3. Create a 10 variables with favorite food names?"
   ]
  },
  {
   "cell_type": "code",
   "execution_count": null,
   "id": "54cf4dc6",
   "metadata": {},
   "outputs": [],
   "source": [
    "foodnames=(\"idli\",\"puri\",\"bajji\",\"biriyani\",\"chiken\",\"dosa\",\"gare\",\"eggcurry\",\"masala\",\"cake\")\n",
    "print(foodnames)"
   ]
  },
  {
   "cell_type": "code",
   "execution_count": null,
   "id": "cd468c1e",
   "metadata": {},
   "outputs": [],
   "source": [
    "# 4. Create a 10 variables with colour  names?"
   ]
  },
  {
   "cell_type": "code",
   "execution_count": null,
   "id": "1857b213",
   "metadata": {},
   "outputs": [],
   "source": [
    "colours=(\"red\",\"blue\",\"green\",\"white\",\"yellow\",\"black\",\"pink\",\"skyblue\",\"orange\",\"parple\")\n",
    "colours"
   ]
  },
  {
   "cell_type": "code",
   "execution_count": null,
   "id": "444c1db8",
   "metadata": {},
   "outputs": [],
   "source": [
    "5. Create a 12 variables with month  names?"
   ]
  },
  {
   "cell_type": "code",
   "execution_count": null,
   "id": "52442214",
   "metadata": {},
   "outputs": [],
   "source": [
    "monthnames=(\"january\",\"february\",\"march\",\"april\",\"may\",\"june\",\"july\",\"august\",\"september\",\"october\",\"november\",\"december\")\n",
    "print(monthnames)"
   ]
  },
  {
   "cell_type": "code",
   "execution_count": null,
   "id": "e554e97c",
   "metadata": {},
   "outputs": [],
   "source": [
    "6. Create a 10 variables with game  names?"
   ]
  },
  {
   "cell_type": "code",
   "execution_count": null,
   "id": "a967d3f5",
   "metadata": {},
   "outputs": [],
   "source": [
    "gamenames=(\"running\",\"cricket\",\"football\",\"tennis\",\"cycling\",\"kabadi\",\"koko\",\"throwball,basketball\",\"chess\")\n",
    "print(gamenames)"
   ]
  },
  {
   "cell_type": "code",
   "execution_count": null,
   "id": "b4a53c57",
   "metadata": {},
   "outputs": [],
   "source": [
    "7. Create a 10 variables with city  names?"
   ]
  },
  {
   "cell_type": "code",
   "execution_count": null,
   "id": "4be43408",
   "metadata": {},
   "outputs": [],
   "source": [
    "citynames=(\"mumdai\",\"delhi\",\"bangalore\",\"hyderabad\",\"Ahmadabad\",\"chennai\",\"kolkata\",\"surat\",\"pune\",\"jaipur\")\n",
    "print(citynames)"
   ]
  },
  {
   "cell_type": "code",
   "execution_count": null,
   "id": "72ebe409",
   "metadata": {},
   "outputs": [],
   "source": [
    "# 8. Create a list (friend_names) with your friend names (10 names)?"
   ]
  },
  {
   "cell_type": "code",
   "execution_count": null,
   "id": "7b48e398",
   "metadata": {},
   "outputs": [],
   "source": [
    "friendsnames=[\"pavani\",\"chinnari\",\"meghana\",\"deepika\",\"siru\",\"sandhyarani\",\"ghanga\",\"bhavani\",\"mamatha\",\"chandrika\"]\n",
    "print(friendsnames)"
   ]
  },
  {
   "cell_type": "code",
   "execution_count": null,
   "id": "6d7bef5e",
   "metadata": {},
   "outputs": [],
   "source": [
    "9. Create a tuple (family_members) with your family members?"
   ]
  },
  {
   "cell_type": "code",
   "execution_count": null,
   "id": "bcf78ea8",
   "metadata": {},
   "outputs": [],
   "source": [
    "familymembers=(\"gopalakrishna\",\"chinna\",\"srinivasarao\",\"sujatha\",\"venkateswaramma\",\"verraswami\",\"chitra\",\"pawan\",\"devi\",\"ratnakumar\")\n",
    "print(familymembers)"
   ]
  },
  {
   "cell_type": "code",
   "execution_count": null,
   "id": "e83c4e50",
   "metadata": {},
   "outputs": [],
   "source": [
    "10. Create a set (colours) with colour names(10 names)?"
   ]
  },
  {
   "cell_type": "code",
   "execution_count": null,
   "id": "5a2f2b25",
   "metadata": {},
   "outputs": [],
   "source": [
    "colournames={\"red\",\"blue\",\"green\",\"white\",\"yellow\",\"black\",\"pink\",\"skyblue\",\"orange\",\"parple\"}\n",
    "print(colournames)"
   ]
  },
  {
   "cell_type": "code",
   "execution_count": null,
   "id": "0854ca5a",
   "metadata": {},
   "outputs": [],
   "source": [
    "11. month_names=[1,9,10,5,3,2,7,8,6,4] , sort the list--> write a program?\n",
    "expected output: month_names=[1,2,3,4,5,6,7,8,9,10]\n"
   ]
  },
  {
   "cell_type": "code",
   "execution_count": null,
   "id": "0b938075",
   "metadata": {},
   "outputs": [],
   "source": [
    "monthnames={1,9,10,5,3,2,7,8,6,4}\n",
    "print(monthnames)"
   ]
  },
  {
   "cell_type": "code",
   "execution_count": null,
   "id": "7623878a",
   "metadata": {},
   "outputs": [],
   "source": [
    "monthnames=[1,9,10,5,3,2,7,8,6,4]"
   ]
  },
  {
   "cell_type": "code",
   "execution_count": null,
   "id": "2242b704",
   "metadata": {},
   "outputs": [],
   "source": [
    "seq_set=set(monthnames)\n",
    "seq_set"
   ]
  },
  {
   "cell_type": "code",
   "execution_count": null,
   "id": "7fc36f5e",
   "metadata": {},
   "outputs": [],
   "source": [
    "12. tollywood_heros=[\"chiru\", \"balaya\", \"nag\",\"venky\",\"powerstar\",\"superstar\",\"ntr\",\"ramcharan\"], write a program?\n",
    "expected output:tollywood_heros=[\"chiranjeevi\", \"balakrishan\", \"nagarjuna\",\"venky\",\"pawan kalyan\",\"maheshbabu\",\"NT rama rao\",\"ramcharan\"]"
   ]
  },
  {
   "cell_type": "code",
   "execution_count": null,
   "id": "08848a52",
   "metadata": {},
   "outputs": [],
   "source": [
    "tollywood_heros=[\"chiru\", \"balaya\", \"nag\",\"venky\",\"powerstar\",\"superstar\",\"ntr\",\"ramcharan\"]"
   ]
  },
  {
   "cell_type": "code",
   "execution_count": null,
   "id": "ea1ea169",
   "metadata": {},
   "outputs": [],
   "source": [
    "tollywood_heros[0]=\"chiranjeevi\"\n",
    "tollywood_heros[1]=\"balakrishna\"\n",
    "tollywood_heros[2]=\"nagarjuna\"\n",
    "tollywood_heros[3]=\"venkatesh\"\n",
    "tollywood_heros[4]=\"pavan kalyan\"\n",
    "tollywood_heros[5]=\"mahesh babu\"\n",
    "tollywood_heros[6]=\"nt ramarao\"\n",
    "tollywood_heros[7]=\"ramcharan\"\n",
    "tollywood_heros"
   ]
  },
  {
   "cell_type": "code",
   "execution_count": null,
   "id": "c580e1e2",
   "metadata": {},
   "outputs": [],
   "source": [
    "13. bollywood_heros=[\"sharukkhan\", \"salmankhan\", \"salmankhan\",\"amirkhan\",\"HrithikRoshan\",\"Amitabh Bachchan\",\"Akshay Kumar\",\"amirkhan\"], write a program to remove duplicates?"
   ]
  },
  {
   "cell_type": "code",
   "execution_count": null,
   "id": "6698b605",
   "metadata": {},
   "outputs": [],
   "source": [
    "bollywood_heros={\"sharukkhan\", \"salmankhan\", \"salmankhan\",\"amirkhan\",\"HrithikRoshan\",\"Amitabh Bachchan\",\"Akshay Kumar\",\"amirkhan\"}"
   ]
  },
  {
   "cell_type": "code",
   "execution_count": null,
   "id": "9e24caea",
   "metadata": {},
   "outputs": [],
   "source": [
    "bollywood_heros"
   ]
  },
  {
   "cell_type": "code",
   "execution_count": null,
   "id": "2c2838db",
   "metadata": {},
   "outputs": [],
   "source": [
    "14. breakfast_items=[\"upma\",\"dosa\",\"idly\",\"puri\",\"punugulu\",\"roti\",\"chapathi\", \"parota\",\"mysoor baji\",\"minapa baji\"], print your favorite breakfast itme?\n",
    "example: My Favorite breakfast time is mysoor baji"
   ]
  },
  {
   "cell_type": "code",
   "execution_count": null,
   "id": "a4729e72",
   "metadata": {},
   "outputs": [],
   "source": [
    "breakfast_items=[\"upma\",\"dosa\",\"idly\",\"puri\",\"punugulu\",\"roti\",\"chapathi\", \"parota\",\"mysoor baji\",\"minapa baji\"]"
   ]
  },
  {
   "cell_type": "code",
   "execution_count": null,
   "id": "e6e97647",
   "metadata": {},
   "outputs": [],
   "source": [
    "print(\"my favorite breakfast time is\",breakfast_items[1])"
   ]
  },
  {
   "cell_type": "code",
   "execution_count": null,
   "id": "5bc9f3f5",
   "metadata": {},
   "outputs": [],
   "source": [
    "name1=\"mamatha\"\n",
    "name2=\"pavani\"\n",
    "name3=\"sravani\"\n",
    "name4=\"sujatha\"\n",
    "name5=\"meghana\""
   ]
  },
  {
   "cell_type": "code",
   "execution_count": null,
   "id": "f9246174",
   "metadata": {},
   "outputs": [],
   "source": [
    "print(\"my friends are\",name1,name2,name3,name4,name5,sep=\",\")"
   ]
  },
  {
   "cell_type": "code",
   "execution_count": null,
   "id": "1065fd71",
   "metadata": {},
   "outputs": [],
   "source": []
  },
  {
   "cell_type": "code",
   "execution_count": null,
   "id": "88854694",
   "metadata": {},
   "outputs": [],
   "source": []
  }
 ],
 "metadata": {
  "kernelspec": {
   "display_name": "Python 3 (ipykernel)",
   "language": "python",
   "name": "python3"
  },
  "language_info": {
   "codemirror_mode": {
    "name": "ipython",
    "version": 3
   },
   "file_extension": ".py",
   "mimetype": "text/x-python",
   "name": "python",
   "nbconvert_exporter": "python",
   "pygments_lexer": "ipython3",
   "version": "3.10.9"
  }
 },
 "nbformat": 4,
 "nbformat_minor": 5
}
